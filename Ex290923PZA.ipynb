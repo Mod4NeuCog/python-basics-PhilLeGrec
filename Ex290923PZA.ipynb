{
 "cells": [
  {
   "cell_type": "code",
   "execution_count": null,
   "id": "d1d11746-278c-487e-8c93-b7171f0e8fea",
   "metadata": {},
   "outputs": [],
   "source": [
    "## L. 2 E. 1: Algorithm of Neuron of L. 1, Ex.6\n",
    "Input: external input (Initial membrane potential)\n",
    "Output: presence/absence of spike , new membrane potential\n",
    "Function Spiker():\n",
    "    Send Spike\n",
    "    Set Output to 5\n",
    "    Print Output\n",
    "Function Dendrite():\n",
    "    Read Input\n",
    "Main():\n",
    "    Dendrite()\n",
    "    If Dendrite()>-65.0 then\n",
    "        Spiker()\n",
    "    Else:\n",
    "        Set Output to 0\n",
    "        Print Output"
   ]
  },
  {
   "cell_type": "code",
   "execution_count": null,
   "id": "8fc93fb6-686d-4ad6-becf-e2fbb270fa55",
   "metadata": {},
   "outputs": [],
   "source": [
    "## L.2 E.1 with Parameters\n",
    "Input: external input (Initial membrane potential) , randomly generated input (Synaptic weight)\n",
    "Output: presence/absence of spike , new membrane potential\n",
    "Function Spiker():\n",
    "    Send Spike\n",
    "    Set Output to (Initial membrane potential)+5*(Synaptic weight)\n",
    "    Print Output\n",
    "Function Dendrite():\n",
    "    Read Input\n",
    "Main():\n",
    "    Dendrite()\n",
    "    If Dendrite()>-65.0 then\n",
    "        Spiker()\n",
    "    Else:\n",
    "        Set Output to (Initial membrane potential)\n",
    "        Print Output"
   ]
  },
  {
   "cell_type": "code",
   "execution_count": null,
   "id": "7a774c7d-4142-4b21-bd5c-094bc5c4d70c",
   "metadata": {},
   "outputs": [],
   "source": [
    "## L.2 E.2 DTSS\n",
    "Input: x, S, c, t_max\n",
    "Output: δ, λ\n",
    "Simulate():\n",
    "    while t<t_max\n",
    "        compute δ <- x*S\n",
    "        compute λ <- S\n",
    "        n <- n+1\n",
    "        t <- c*n\n",
    "    Print Output"
   ]
  },
  {
   "cell_type": "code",
   "execution_count": null,
   "id": "4e4ccc92-7f91-4cf0-87ac-96695595bc03",
   "metadata": {},
   "outputs": [],
   "source": [
    "## L.2 E.3 DTSS For Loop\n",
    "Input: x, S, c, n_max\n",
    "Output: δ, λ\n",
    "Simulate():\n",
    "    for t in range(n_max/c)\n",
    "        compute δ <- x*S\n",
    "        compute λ <- S\n",
    "    Print Output"
   ]
  }
 ],
 "metadata": {
  "kernelspec": {
   "display_name": "Python 3 (ipykernel)",
   "language": "python",
   "name": "python3"
  },
  "language_info": {
   "codemirror_mode": {
    "name": "ipython",
    "version": 3
   },
   "file_extension": ".py",
   "mimetype": "text/x-python",
   "name": "python",
   "nbconvert_exporter": "python",
   "pygments_lexer": "ipython3",
   "version": "3.11.5"
  }
 },
 "nbformat": 4,
 "nbformat_minor": 5
}
