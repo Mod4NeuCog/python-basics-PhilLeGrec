{
 "cells": [
  {
   "cell_type": "code",
   "execution_count": 36,
   "id": "0997668f-cec8-47ad-92c7-6f93e8293fc5",
   "metadata": {},
   "outputs": [
    {
     "name": "stdout",
     "output_type": "stream",
     "text": [
      "Initial resting potential (mV):  -74.0\n",
      "Spike detected! Membrane potential:  -50.879134485140895\n"
     ]
    }
   ],
   "source": [
    "neu = float(-74)\n",
    "## neu: neuron membrane potential in mV, floating-point variable\n",
    "print(\"Initial resting potential (mV): \", neu)\n",
    "import random\n",
    "neu = random.uniform(-80,-50)\n",
    "## simulating a random state of the neuron using random number generation\n",
    "if neu>=-55.0:\n",
    "    print(\"Spike detected! Membrane potential: \", neu)\n",
    "else:\n",
    "    print(\"No spike detected. Membrane potential: \", neu)\n",
    "## computing and printing the value of membrane potential (an action potential occurs above -55 mV)"
   ]
  },
  {
   "cell_type": "code",
   "execution_count": 37,
   "id": "d058e085-9940-4c97-95e7-5939291a1df7",
   "metadata": {},
   "outputs": [
    {
     "name": "stdout",
     "output_type": "stream",
     "text": [
      "<class 'int'>\n",
      "<class 'float'>\n",
      "<class 'float'>\n"
     ]
    }
   ],
   "source": [
    "neu = 1\n",
    "print(type(neu))\n",
    "## As integer variables take up much less memory space than floating-space variables, Python assumes that 1 is an integer variable\n",
    "neu = neu*0.7\n",
    "print(type(neu))\n",
    "## However, this can easily change by introducing the need for calculations using floating-point values\n",
    "neu = 1.0\n",
    "print(type(neu))\n",
    "## Adding a decimal point explicitly tells Python that this variable uses a floating point"
   ]
  },
  {
   "cell_type": "code",
   "execution_count": null,
   "id": "e31ab59c-b9b2-4fea-ab56-c6873897416b",
   "metadata": {},
   "outputs": [],
   "source": []
  }
 ],
 "metadata": {
  "kernelspec": {
   "display_name": "Python 3 (ipykernel)",
   "language": "python",
   "name": "python3"
  },
  "language_info": {
   "codemirror_mode": {
    "name": "ipython",
    "version": 3
   },
   "file_extension": ".py",
   "mimetype": "text/x-python",
   "name": "python",
   "nbconvert_exporter": "python",
   "pygments_lexer": "ipython3",
   "version": "3.11.5"
  }
 },
 "nbformat": 4,
 "nbformat_minor": 5
}
